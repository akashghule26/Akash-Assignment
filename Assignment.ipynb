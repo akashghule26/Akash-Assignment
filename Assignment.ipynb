{
 "cells": [
  {
   "cell_type": "code",
   "execution_count": 1,
   "id": "d8f2ff28",
   "metadata": {},
   "outputs": [],
   "source": [
    "#Assignment"
   ]
  },
  {
   "cell_type": "code",
   "execution_count": 2,
   "id": "74a59ac7",
   "metadata": {},
   "outputs": [],
   "source": [
    "## What is 7 to the power of 4?"
   ]
  },
  {
   "cell_type": "code",
   "execution_count": 3,
   "id": "280c0a7d",
   "metadata": {},
   "outputs": [],
   "source": [
    "def find_fourthPower(n1):\n",
    "    print(n1**4)"
   ]
  },
  {
   "cell_type": "code",
   "execution_count": 4,
   "id": "a287ba61",
   "metadata": {},
   "outputs": [
    {
     "name": "stdout",
     "output_type": "stream",
     "text": [
      "2401\n"
     ]
    }
   ],
   "source": [
    "find_fourthPower(7)"
   ]
  },
  {
   "cell_type": "code",
   "execution_count": 5,
   "id": "e085087a",
   "metadata": {},
   "outputs": [],
   "source": [
    "##** Split this string:**\n"
   ]
  },
  {
   "cell_type": "code",
   "execution_count": 6,
   "id": "e67e2313",
   "metadata": {},
   "outputs": [],
   "source": [
    "s = \"Hi there Yogesh!\""
   ]
  },
  {
   "cell_type": "code",
   "execution_count": 8,
   "id": "1bbcb993",
   "metadata": {},
   "outputs": [
    {
     "name": "stdout",
     "output_type": "stream",
     "text": [
      "['Hi', 'there', 'Yogesh!']\n"
     ]
    }
   ],
   "source": [
    "print(s.split())"
   ]
  },
  {
   "cell_type": "code",
   "execution_count": 9,
   "id": "c34659d0",
   "metadata": {},
   "outputs": [],
   "source": [
    "##Given the variables"
   ]
  },
  {
   "cell_type": "code",
   "execution_count": 10,
   "id": "26729b3d",
   "metadata": {},
   "outputs": [],
   "source": [
    "planet = \"Earth\"\n",
    "diameter = 12742     #input function"
   ]
  },
  {
   "cell_type": "code",
   "execution_count": 11,
   "id": "9c008541",
   "metadata": {},
   "outputs": [
    {
     "name": "stdout",
     "output_type": "stream",
     "text": [
      "The diameter of Earth is 12742 kilometers\n"
     ]
    }
   ],
   "source": [
    "print('The diameter of',planet, 'is',diameter,'kilometers')"
   ]
  },
  {
   "cell_type": "code",
   "execution_count": 13,
   "id": "57e2dfeb",
   "metadata": {},
   "outputs": [],
   "source": [
    "##* Given this nested list, use indexing to grab the word \"hello\" **"
   ]
  },
  {
   "cell_type": "code",
   "execution_count": 23,
   "id": "c2596a95",
   "metadata": {},
   "outputs": [],
   "source": [
    "list = [1,2,[3,4],[5,[100,200,['hello']],23,11],1,7]"
   ]
  },
  {
   "cell_type": "code",
   "execution_count": 28,
   "id": "5c7027b5",
   "metadata": {},
   "outputs": [
    {
     "data": {
      "text/plain": [
       "['hello']"
      ]
     },
     "execution_count": 28,
     "metadata": {},
     "output_type": "execute_result"
    }
   ],
   "source": [
    "list[3][1][2]"
   ]
  },
  {
   "cell_type": "code",
   "execution_count": 25,
   "id": "83a9f51c",
   "metadata": {},
   "outputs": [
    {
     "data": {
      "text/plain": [
       "[5, [100, 200, ['hello']], 23, 11]"
      ]
     },
     "execution_count": 25,
     "metadata": {},
     "output_type": "execute_result"
    }
   ],
   "source": [
    "list[3]"
   ]
  },
  {
   "cell_type": "code",
   "execution_count": 26,
   "id": "f99abd35",
   "metadata": {},
   "outputs": [
    {
     "data": {
      "text/plain": [
       "[100, 200, ['hello']]"
      ]
     },
     "execution_count": 26,
     "metadata": {},
     "output_type": "execute_result"
    }
   ],
   "source": [
    "list[3][1]"
   ]
  },
  {
   "cell_type": "code",
   "execution_count": 27,
   "id": "971fd8c2",
   "metadata": {},
   "outputs": [
    {
     "data": {
      "text/plain": [
       "['hello']"
      ]
     },
     "execution_count": 27,
     "metadata": {},
     "output_type": "execute_result"
    }
   ],
   "source": [
    "list[3][1][2]"
   ]
  },
  {
   "cell_type": "code",
   "execution_count": 29,
   "id": "8b9f569c",
   "metadata": {},
   "outputs": [],
   "source": [
    "##Given this nested dictionary grab the word \"hello\". Be prepared, this will be annoying/tricky *"
   ]
  },
  {
   "cell_type": "code",
   "execution_count": 30,
   "id": "93bf11b7",
   "metadata": {},
   "outputs": [],
   "source": [
    "d = {'k1':[1,2,3,{'tricky':['oh','man','inception',\n",
    "                            {'target':[1,2,3,'hello']}]}]}"
   ]
  },
  {
   "cell_type": "code",
   "execution_count": 32,
   "id": "ac7410e0",
   "metadata": {},
   "outputs": [
    {
     "data": {
      "text/plain": [
       "[1,\n",
       " 2,\n",
       " 3,\n",
       " {'tricky': ['oh', 'man', 'inception', {'target': [1, 2, 3, 'hello']}]}]"
      ]
     },
     "execution_count": 32,
     "metadata": {},
     "output_type": "execute_result"
    }
   ],
   "source": [
    "d['k1']"
   ]
  },
  {
   "cell_type": "code",
   "execution_count": 33,
   "id": "eec4b85b",
   "metadata": {},
   "outputs": [
    {
     "data": {
      "text/plain": [
       "{'tricky': ['oh', 'man', 'inception', {'target': [1, 2, 3, 'hello']}]}"
      ]
     },
     "execution_count": 33,
     "metadata": {},
     "output_type": "execute_result"
    }
   ],
   "source": [
    "d['k1'][3]"
   ]
  },
  {
   "cell_type": "code",
   "execution_count": 34,
   "id": "290e4daa",
   "metadata": {},
   "outputs": [
    {
     "data": {
      "text/plain": [
       "['oh', 'man', 'inception', {'target': [1, 2, 3, 'hello']}]"
      ]
     },
     "execution_count": 34,
     "metadata": {},
     "output_type": "execute_result"
    }
   ],
   "source": [
    "d['k1'][3]['tricky']"
   ]
  },
  {
   "cell_type": "code",
   "execution_count": 35,
   "id": "f23bb70d",
   "metadata": {},
   "outputs": [
    {
     "data": {
      "text/plain": [
       "{'target': [1, 2, 3, 'hello']}"
      ]
     },
     "execution_count": 35,
     "metadata": {},
     "output_type": "execute_result"
    }
   ],
   "source": [
    "d['k1'][3]['tricky'][3]"
   ]
  },
  {
   "cell_type": "code",
   "execution_count": 36,
   "id": "35d1b398",
   "metadata": {},
   "outputs": [
    {
     "data": {
      "text/plain": [
       "'hello'"
      ]
     },
     "execution_count": 36,
     "metadata": {},
     "output_type": "execute_result"
    }
   ],
   "source": [
    "d['k1'][3]['tricky'][3]['target'][3]"
   ]
  },
  {
   "cell_type": "code",
   "execution_count": null,
   "id": "4f33a58e",
   "metadata": {},
   "outputs": [],
   "source": [
    "\n"
   ]
  },
  {
   "cell_type": "code",
   "execution_count": 37,
   "id": "6442682e",
   "metadata": {},
   "outputs": [],
   "source": [
    "## Create a function that grabs the email website domain from a string in the form: "
   ]
  },
  {
   "cell_type": "code",
   "execution_count": null,
   "id": "49f20663",
   "metadata": {},
   "outputs": [],
   "source": [
    "user@domain.com"
   ]
  },
  {
   "cell_type": "code",
   "execution_count": 44,
   "id": "41911181",
   "metadata": {},
   "outputs": [],
   "source": [
    "def get_domain(email):\n",
    "    parts = email.split('@')\n",
    "    domain = parts[-1]\n",
    "    return domain"
   ]
  },
  {
   "cell_type": "code",
   "execution_count": 45,
   "id": "8e4013c6",
   "metadata": {},
   "outputs": [
    {
     "data": {
      "text/plain": [
       "'gmail.com'"
      ]
     },
     "execution_count": 45,
     "metadata": {},
     "output_type": "execute_result"
    }
   ],
   "source": [
    "get_domain('akash1994@gmail.com')"
   ]
  },
  {
   "cell_type": "code",
   "execution_count": null,
   "id": "fcd38b8a",
   "metadata": {},
   "outputs": [],
   "source": []
  },
  {
   "cell_type": "code",
   "execution_count": 46,
   "id": "6967c207",
   "metadata": {},
   "outputs": [],
   "source": [
    "##Use lambda expressions and the filter() function to filter out words from a list that don't start with the letter 's'. For example:**"
   ]
  },
  {
   "cell_type": "code",
   "execution_count": 75,
   "id": "d71727dd",
   "metadata": {},
   "outputs": [],
   "source": [
    "seq = ['soup','dog','salad','cat','great']"
   ]
  },
  {
   "cell_type": "code",
   "execution_count": 76,
   "id": "a4140a76",
   "metadata": {},
   "outputs": [],
   "source": [
    "t=lambda x:x[0]!='s'"
   ]
  },
  {
   "cell_type": "code",
   "execution_count": null,
   "id": "1ce8b698",
   "metadata": {},
   "outputs": [],
   "source": [
    "list(filter(t,seq))"
   ]
  },
  {
   "cell_type": "code",
   "execution_count": null,
   "id": "db99a705",
   "metadata": {},
   "outputs": [],
   "source": []
  },
  {
   "cell_type": "code",
   "execution_count": null,
   "id": "9629e216",
   "metadata": {},
   "outputs": [],
   "source": [
    "##Write a python function to find and display the five \n",
    "digit number in which the first digit is two more than \n",
    "the second,the second digit is two more than the third,\n",
    "the fourth digit is two less than the third, and the \n",
    "last digit is two more than\n",
    "the fourth.The sum of the third,fourth and fifth digits\n",
    "equals the first.The sum of all the digits is 19"
   ]
  },
  {
   "cell_type": "code",
   "execution_count": 90,
   "id": "285ba4b1",
   "metadata": {},
   "outputs": [
    {
     "name": "stdout",
     "output_type": "stream",
     "text": [
      "75313\n"
     ]
    }
   ],
   "source": [
    "def five_digitNumber():\n",
    "    for i in range(9,0,-1):\n",
    "        first= i\n",
    "        second = i-2\n",
    "        third = i-4\n",
    "        fourth = i-6\n",
    "        fifth = i-4   \n",
    "        if third+fourth+fifth==first:\n",
    "            if (first+second+third+fourth+fifth)==19:\n",
    "                return(int(str(first)+str(second)+str(third)+str(fourth)+str(fifth)))\n",
    "print(five_digitNumber())"
   ]
  },
  {
   "cell_type": "code",
   "execution_count": null,
   "id": "755f618f",
   "metadata": {},
   "outputs": [],
   "source": []
  },
  {
   "cell_type": "code",
   "execution_count": 91,
   "id": "66c8cd33",
   "metadata": {},
   "outputs": [],
   "source": [
    "##findDog('Is there a dog here?')\n"
   ]
  },
  {
   "cell_type": "code",
   "execution_count": 92,
   "id": "bb11ea9c",
   "metadata": {},
   "outputs": [],
   "source": [
    "def dog(input):\n",
    "    return 'dog' in input.lower()"
   ]
  },
  {
   "cell_type": "code",
   "execution_count": 93,
   "id": "7ebd3de2",
   "metadata": {},
   "outputs": [
    {
     "data": {
      "text/plain": [
       "True"
      ]
     },
     "execution_count": 93,
     "metadata": {},
     "output_type": "execute_result"
    }
   ],
   "source": [
    "dog('Is there a dog here?')"
   ]
  },
  {
   "cell_type": "code",
   "execution_count": null,
   "id": "186bca35",
   "metadata": {},
   "outputs": [],
   "source": []
  },
  {
   "cell_type": "code",
   "execution_count": 94,
   "id": "2a6a0352",
   "metadata": {},
   "outputs": [],
   "source": [
    "##* Create a function that counts the number of times the word \"dog\" occurs in a string. Again ignore edge cases. **"
   ]
  },
  {
   "cell_type": "code",
   "execution_count": 95,
   "id": "aec2f7f8",
   "metadata": {},
   "outputs": [],
   "source": [
    "def count_dog(s):\n",
    "    count=0\n",
    "    for w in s.lower().split():\n",
    "        if w=='dog':\n",
    "            count=count+1\n",
    "    return count    "
   ]
  },
  {
   "cell_type": "code",
   "execution_count": 96,
   "id": "fb1c9a8e",
   "metadata": {},
   "outputs": [
    {
     "data": {
      "text/plain": [
       "2"
      ]
     },
     "execution_count": 96,
     "metadata": {},
     "output_type": "execute_result"
    }
   ],
   "source": [
    "count_dog('This dog runs faster than the other dog dude!')"
   ]
  },
  {
   "cell_type": "code",
   "execution_count": null,
   "id": "ba9fb528",
   "metadata": {},
   "outputs": [],
   "source": []
  },
  {
   "cell_type": "code",
   "execution_count": null,
   "id": "4d2ecda6",
   "metadata": {},
   "outputs": [],
   "source": [
    "##You are driving a little too fast, and a police officer stops you. Write a function to return one of 3 possible results: \"No ticket\", \"Small ticket\", or \"Big Ticket\". If your speed is 60 or less, the result is \"No Ticket\". If speed is between 61 and 80 inclusive, the result is \"Small Ticket\". If speed is 81 or more, the result is \"Big Ticket\". Unless it is your birthday (encoded as a boolean value in the parameters of the function) -- on your birthday, your speed can be 5 higher in all cases.\n"
   ]
  },
  {
   "cell_type": "code",
   "execution_count": 97,
   "id": "48010f5f",
   "metadata": {},
   "outputs": [],
   "source": [
    "def catch_birthday(s,b):\n",
    "    if b==True:\n",
    "        s_new=s-5\n",
    "    if s_new>80:\n",
    "        return \"big ticket\"\n",
    "    elif s_new>60:\n",
    "        return \"small ticket\"\n",
    "    else:\n",
    "        return \"no ticket\""
   ]
  },
  {
   "cell_type": "code",
   "execution_count": 100,
   "id": "0eafdbf7",
   "metadata": {},
   "outputs": [
    {
     "data": {
      "text/plain": [
       "'small ticket'"
      ]
     },
     "execution_count": 100,
     "metadata": {},
     "output_type": "execute_result"
    }
   ],
   "source": [
    "catch_birthday(81,True)"
   ]
  },
  {
   "cell_type": "code",
   "execution_count": 101,
   "id": "74faf70d",
   "metadata": {},
   "outputs": [
    {
     "data": {
      "text/plain": [
       "'big ticket'"
      ]
     },
     "execution_count": 101,
     "metadata": {},
     "output_type": "execute_result"
    }
   ],
   "source": [
    "catch_birthday(88,True)"
   ]
  },
  {
   "cell_type": "code",
   "execution_count": 102,
   "id": "c659ebf8",
   "metadata": {},
   "outputs": [
    {
     "data": {
      "text/plain": [
       "'no ticket'"
      ]
     },
     "execution_count": 102,
     "metadata": {},
     "output_type": "execute_result"
    }
   ],
   "source": [
    "catch_birthday(65,True)"
   ]
  },
  {
   "cell_type": "code",
   "execution_count": null,
   "id": "d92e76ed",
   "metadata": {},
   "outputs": [],
   "source": []
  },
  {
   "cell_type": "code",
   "execution_count": null,
   "id": "b8989c75",
   "metadata": {},
   "outputs": [],
   "source": [
    "Q2\n",
    "WAP to check whether a number is palindrome or not on following \n",
    "conditions.\n",
    "1. take input number\n",
    "2. add number and its reverse\n",
    "3. check that number is palindrome or not,if not then sum and its reverse"
   ]
  },
  {
   "cell_type": "code",
   "execution_count": 104,
   "id": "bb52ca47",
   "metadata": {},
   "outputs": [
    {
     "name": "stdout",
     "output_type": "stream",
     "text": [
      "Enter the number:88\n",
      "Number is 847\n",
      "Reverse is 748\n",
      "Number is 1595\n",
      "Reverse is 5951\n",
      "Number is 7546\n",
      "Reverse is 6457\n",
      "Number is 14003\n",
      "Reverse is 30041\n",
      "Number is 44044\n",
      "Reverse is 44044\n",
      "Palindrome is 44044\n"
     ]
    }
   ],
   "source": [
    "n1=input(\"Enter the number:\")\n",
    "n2=int(n1[::-1])\n",
    "n3=str(int(n1)+n2)\n",
    "while n3!=n3[::-1]:\n",
    "    n3=str(int(n3)+int(n3[::-1]))\n",
    "    print(\"Number is\",n3)\n",
    "    print(\"Reverse is\",n3[::-1])\n",
    "print(\"Palindrome is\",n3)\n"
   ]
  },
  {
   "cell_type": "code",
   "execution_count": null,
   "id": "4f457a8f",
   "metadata": {},
   "outputs": [],
   "source": []
  },
  {
   "cell_type": "code",
   "execution_count": 105,
   "id": "30f7e247",
   "metadata": {},
   "outputs": [
    {
     "data": {
      "text/plain": [
       "'C:\\\\Users\\\\ghule'"
      ]
     },
     "execution_count": 105,
     "metadata": {},
     "output_type": "execute_result"
    }
   ],
   "source": [
    "pwd\n"
   ]
  },
  {
   "cell_type": "code",
   "execution_count": null,
   "id": "9dc395fa",
   "metadata": {},
   "outputs": [],
   "source": []
  }
 ],
 "metadata": {
  "kernelspec": {
   "display_name": "Python 3 (ipykernel)",
   "language": "python",
   "name": "python3"
  },
  "language_info": {
   "codemirror_mode": {
    "name": "ipython",
    "version": 3
   },
   "file_extension": ".py",
   "mimetype": "text/x-python",
   "name": "python",
   "nbconvert_exporter": "python",
   "pygments_lexer": "ipython3",
   "version": "3.11.7"
  }
 },
 "nbformat": 4,
 "nbformat_minor": 5
}
